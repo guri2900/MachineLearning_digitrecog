{
 "cells": [
  {
   "cell_type": "code",
   "execution_count": 46,
   "metadata": {},
   "outputs": [],
   "source": [
    "import numpy as np\n",
    "from decision_tree import calculate_information_gain, decision_tree_train, decision_tree_predict\n",
    "from naive_bayes import naive_bayes_train, naive_bayes_predict\n",
    "from load_all_data import load_all_data\n",
    "from crossval import cross_validate\n",
    "import random\n",
    "import matplotlib.pyplot as plt\n",
    "\n",
    "d = 5000 # Maximum number of features"
   ]
  },
  {
   "cell_type": "code",
   "execution_count": 47,
   "metadata": {},
   "outputs": [],
   "source": [
    "train_data, test_data, train_labels, test_labels = load_all_data()\n",
    "\n",
    "train_data = train_data.T\n",
    "test_data = test_data.T"
   ]
  },
  {
   "cell_type": "code",
   "execution_count": 48,
   "metadata": {},
   "outputs": [
    {
     "name": "stdout",
     "output_type": "stream",
     "text": [
      "(784, 38000)\n",
      "(784, 4000)\n",
      "------\n",
      "(38000,)\n",
      "(4000,)\n"
     ]
    }
   ],
   "source": [
    "#print the shape of train_data and test_data, and the shape of train_labels and test_labels\n",
    "print(train_data.shape)\n",
    "print(test_data.shape)\n",
    "print('------')\n",
    "print(train_labels.shape)\n",
    "print(test_labels.shape)\n"
   ]
  },
  {
   "cell_type": "code",
   "execution_count": 31,
   "metadata": {},
   "outputs": [
    {
     "name": "stdout",
     "output_type": "stream",
     "text": [
      "[ 3.42198492e-13  3.42198492e-13  3.42198492e-13  3.42198492e-13\n",
      "  3.42198492e-13  3.42198492e-13  3.42198492e-13  3.42198492e-13\n",
      "  3.42198492e-13  3.42198492e-13  3.42198492e-13  3.42198492e-13\n",
      "  6.82395868e-03  2.04851440e-02  1.33191090e-02  5.48932295e-04\n",
      "  3.42198492e-13  3.42198492e-13  3.42198492e-13  3.42198492e-13\n",
      "  3.42198492e-13  3.42198492e-13  3.42198492e-13  3.42198492e-13\n",
      "  3.42198492e-13  3.42198492e-13  3.42198492e-13  3.42198492e-13\n",
      "  3.42198492e-13  3.42198492e-13  3.42198492e-13  3.42198492e-13\n",
      "  9.78833076e-04  3.37162292e-03  2.77332548e-02  7.23563138e-02\n",
      "  1.22498072e-01  1.51444795e-01  3.36323917e-01  3.97966788e-01\n",
      "  4.24142563e-01  3.96354131e-01  3.64566670e-01  3.36405547e-01\n",
      "  3.27539247e-01  3.37660574e-01  3.20745514e-01  1.81527464e-01\n",
      "  1.10096781e-01  1.74982796e-02  2.02138281e-02  1.31050210e-02\n",
      "  3.42198492e-13  3.42198492e-13  3.42198492e-13  3.42198492e-13\n",
      "  3.42198492e-13  3.42198492e-13  3.92520048e-03  1.77369771e-03\n",
      "  1.79553311e-02  1.37476494e-02  1.20207267e-01  3.28826984e-01\n",
      "  4.68056871e-01  7.82285217e-01  1.61454186e+00  6.78070795e-01\n",
      "  9.46999999e-01  9.80035269e-01  8.94103010e-01  8.50887044e-01\n",
      "  8.66606200e-01  8.82689274e-01  7.39270736e-01  8.07572045e-01\n",
      "  2.23862401e-01  9.43829962e-01  5.06731346e-01  3.12187681e-01\n",
      "  7.31609480e-02  1.53122933e-02  3.42198492e-13  3.42198492e-13\n",
      "  3.42198492e-13  3.42198492e-13  8.31404145e-03  6.05998453e-03\n",
      "  2.02009668e-02  8.87882030e-02  3.98897112e-01  5.45960391e-01\n",
      "  3.34814317e-01  7.39869649e-01  4.60710631e-01  2.10063024e-01\n",
      " -1.28249663e-02 -3.99033468e-01 -4.06011565e-01 -5.81623464e-01\n",
      " -6.14433804e-01 -5.38620079e-01 -6.02156056e-01 -3.35250560e-01\n",
      " -1.01262845e-01  1.21125594e-01 -2.00263232e-01  3.90142904e-01\n",
      "  2.77165536e-01  2.50383480e-02  7.44347053e-03  3.42198492e-13\n",
      "  3.42198492e-13  2.26034088e-03  4.86976581e-03  1.17491878e-02\n",
      "  6.57668393e-02  4.16256743e-01 -2.09822112e-01  3.05621030e-01\n",
      " -3.30518396e-02 -3.43898779e-01 -2.13094759e-01 -2.05659464e-01\n",
      " -2.84418507e-01 -3.27155433e-01 -3.82003812e-01 -2.76728836e-01\n",
      " -6.35807151e-02  8.88230926e-02  1.60498202e-01  2.90372693e-01\n",
      "  3.15754799e-01  3.21342308e-01  1.21977770e-01  1.66383586e-01\n",
      "  7.07924324e-01  2.81306001e-01  5.87814049e-02  3.42198492e-13\n",
      "  3.42198492e-13  3.42198492e-13  1.17085548e-02  4.08423041e-02\n",
      "  3.91034201e-01  3.60868089e-01 -1.21622758e-01 -3.96925331e-01\n",
      " -3.55177582e-01 -7.22712007e-01 -8.19771814e-01 -6.36076496e-01\n",
      " -5.58140553e-01 -5.59663166e-01 -5.74762608e-01 -5.75515053e-01\n",
      " -5.68541321e-01 -5.90265217e-01 -6.54951593e-01 -3.36758267e-01\n",
      " -1.80477563e-01 -2.00332447e-01 -3.93536003e-02 -1.63271592e-01\n",
      "  3.98866890e-01  8.71063775e-01  1.91681561e-01  3.42198492e-13\n",
      "  3.42198492e-13  2.37526636e-04  2.52404664e-02  3.22310037e-01\n",
      "  1.95677257e-01 -1.65485724e-01 -2.53107062e-01 -4.05942207e-01\n",
      " -5.13959392e-01 -6.15082594e-01 -3.93198208e-01 -2.60562746e-01\n",
      " -1.88155467e-01 -1.63641643e-01 -1.72235961e-01 -1.75778064e-01\n",
      " -1.57920787e-01 -1.50736850e-01 -1.67187728e-01 -2.11145846e-01\n",
      " -2.84134857e-01 -3.91333694e-01 -6.27407229e-01 -1.02959678e+00\n",
      "  2.12393556e-02  7.29340848e-01  4.26485450e-01  4.10543698e-02\n",
      "  3.42198492e-13  3.30183501e-02  2.17636051e-01  6.23689681e-01\n",
      "  4.49379580e-01 -3.69030918e-01 -4.18653512e-01 -3.02736884e-01\n",
      " -3.08989695e-01 -4.50323869e-01 -2.82351502e-01 -1.65864436e-01\n",
      " -9.09338110e-02 -6.58935021e-02 -7.42493288e-02 -8.16176186e-02\n",
      " -7.16216903e-02 -7.66596709e-02 -1.19024137e-01 -1.84518994e-01\n",
      " -2.55844855e-01 -3.63257743e-01 -5.56640033e-01 -1.06977960e+00\n",
      " -2.67669324e-01  6.61237323e-01  6.32085005e-01  3.26824171e-02\n",
      "  3.42198492e-13  1.56471350e-01  5.51473371e-01  5.13384166e-01\n",
      "  1.56647876e-01 -6.27956773e-01 -2.69259725e-01 -2.32774878e-01\n",
      " -2.53971644e-01 -4.63412495e-01 -3.23183781e-01 -2.04314793e-01\n",
      " -1.18560309e-01 -7.59579970e-02 -7.54658355e-02 -8.63682674e-02\n",
      " -8.50269804e-02 -1.17354171e-01 -1.88439387e-01 -2.54469686e-01\n",
      " -3.19734653e-01 -4.11409383e-01 -6.26314695e-01 -7.95495443e-01\n",
      " -4.79320485e-02  6.64840376e-01  6.36303801e-01  2.72130083e-02\n",
      "  2.42710097e-02  2.90501074e-01  8.10121368e-01  5.21837947e-01\n",
      " -1.73795309e-01 -3.71210792e-01 -1.72919737e-01 -1.73982335e-01\n",
      " -2.79604700e-01 -5.34299038e-01 -4.04823356e-01 -2.78414224e-01\n",
      " -1.63730168e-01 -9.21666667e-02 -9.69088943e-02 -1.19640697e-01\n",
      " -1.22639468e-01 -1.64235440e-01 -2.05390271e-01 -2.45654435e-01\n",
      " -3.27706820e-01 -4.74005049e-01 -5.96093779e-01 -5.87589404e-01\n",
      " -1.04848170e-01  5.41578237e-01  4.78639423e-01  5.65587921e-02\n",
      "  3.82852786e-02  2.90167568e-01  8.08769338e-01  4.39148024e-01\n",
      " -3.43625669e-01 -1.80869762e-01 -1.05051703e-01 -1.94274371e-01\n",
      " -3.53128894e-01 -6.03433890e-01 -4.71530702e-01 -3.27294723e-01\n",
      " -1.61021505e-01 -9.22324511e-02 -1.50185282e-01 -1.69314281e-01\n",
      " -1.47190554e-01 -1.53561055e-01 -1.90209752e-01 -2.64244957e-01\n",
      " -3.99022521e-01 -5.70218431e-01 -3.56429633e-01 -5.65971947e-01\n",
      " -1.67048632e-01  6.62005334e-02  4.52493644e-01  5.76889386e-02\n",
      "  1.59870755e-02  1.39359378e-01  6.35669782e-01  2.40591455e-01\n",
      " -2.97011913e-01 -1.00013573e-01 -1.01645670e-01 -2.15754150e-01\n",
      " -3.93735198e-01 -6.59245613e-01 -5.06044416e-01 -3.55648154e-01\n",
      " -1.90272003e-01 -1.74515529e-01 -2.58820033e-01 -2.15514317e-01\n",
      " -1.43961773e-01 -1.51786103e-01 -2.15819444e-01 -3.38389108e-01\n",
      " -5.99104677e-01 -2.87687573e-01 -3.78600726e-01 -5.01165999e-01\n",
      " -1.01847479e-01  3.56155343e-01  2.00495861e-01  1.22084940e-02\n",
      "  9.74502153e-03  7.67864941e-02  4.29639086e-01  1.06726368e+00\n",
      " -1.75771226e-01 -1.73812851e-01 -2.38168343e-01 -3.05346053e-01\n",
      " -4.29834653e-01 -6.62486777e-01 -5.23955543e-01 -3.96801978e-01\n",
      " -2.67541136e-01 -2.87841409e-01 -3.36254382e-01 -2.43638620e-01\n",
      " -1.69218894e-01 -1.83817308e-01 -2.62351809e-01 -4.44341622e-01\n",
      " -2.05824408e-01 -2.83054275e-01 -5.29691120e-01 -6.57237876e-01\n",
      " -5.27792002e-02  3.94689581e-01  6.93478546e-02  1.16795916e-02\n",
      "  1.84998605e-03  2.93053224e-02  3.16839356e-01  5.45770185e-01\n",
      "  1.24599841e-01 -3.61898829e-01 -3.15370192e-01 -2.75019309e-01\n",
      " -3.86900269e-01 -6.71852791e-01 -5.25006061e-01 -3.93530637e-01\n",
      " -3.06091390e-01 -3.62130329e-01 -3.50892662e-01 -2.74935780e-01\n",
      " -2.29684464e-01 -2.55681705e-01 -3.72329046e-01 -2.30415298e-01\n",
      " -6.79562265e-02 -2.48172112e-01 -5.60041508e-01 -8.49138414e-01\n",
      " -1.33191719e-01  4.10819509e-01  6.66156971e-02  1.45695932e-02\n",
      "  3.42198492e-13  1.25850894e-02  1.20179747e-01  5.04108800e-01\n",
      "  1.26681229e-01 -5.03928785e-01 -3.37031141e-01 -1.91472072e-01\n",
      " -3.65382700e-01 -6.65643139e-01 -4.95168984e-01 -3.46324932e-01\n",
      " -2.89999331e-01 -3.56961538e-01 -3.52010546e-01 -3.04956412e-01\n",
      " -2.70186403e-01 -3.34788792e-01 -5.57026834e-01 -2.99050075e-02\n",
      " -1.74706186e-02 -2.80295814e-01 -5.75127162e-01 -8.87038271e-01\n",
      " -2.37417167e-01  6.62633500e-01  1.38043210e-01  4.77459539e-03\n",
      "  3.42198492e-13  3.42198492e-13  3.15302171e-02  3.95518573e-01\n",
      "  1.62265377e-01 -3.64111624e-01 -3.41248005e-01 -3.33330865e-01\n",
      " -4.47762157e-01 -6.99533051e-01 -4.18338590e-01 -2.68497996e-01\n",
      " -2.81284312e-01 -3.75812321e-01 -3.74743127e-01 -2.99519572e-01\n",
      " -2.49333416e-01 -3.76298947e-01 -2.10374187e-01  5.24129479e-02\n",
      " -6.93613886e-02 -3.43975563e-01 -5.08703321e-01 -6.90442211e-01\n",
      " -3.02347304e-01  2.13316345e-02  2.99209382e-01  2.01377925e-02\n",
      "  3.42198492e-13  3.32295395e-03  9.99651569e-02  4.07843285e-01\n",
      "  1.04122432e-01 -4.23252542e-01 -3.84753802e-01 -3.61930961e-01\n",
      " -4.98057332e-01 -5.55962520e-01 -3.45309989e-01 -2.68048849e-01\n",
      " -3.30893463e-01 -4.10201762e-01 -3.65121128e-01 -2.39801031e-01\n",
      " -2.07619816e-01 -3.36568263e-01 -2.70235661e-01 -1.20286897e-01\n",
      " -2.36577336e-01 -3.90744194e-01 -4.03583510e-01 -5.00594071e-01\n",
      " -3.67354981e-01  2.72547652e-01  3.53504169e-01  3.88732231e-02\n",
      "  3.42198492e-13  5.16616768e-03  1.74791474e-01  1.72137218e+00\n",
      " -2.23750724e-01 -5.07728142e-01 -4.15531362e-01 -4.76198741e-01\n",
      " -6.91988279e-01 -4.81420912e-01 -3.59049269e-01 -3.43825396e-01\n",
      " -3.90315290e-01 -3.88318948e-01 -2.83249139e-01 -1.63058413e-01\n",
      " -1.49170099e-01 -2.56959203e-01 -4.55380149e-01 -4.69016087e-01\n",
      " -4.60315510e-01 -4.95925895e-01 -5.26938538e-01 -5.20548742e-01\n",
      " -4.08029140e-01  3.27462187e-01  3.83923528e-01  3.23112872e-02\n",
      "  4.64725211e-03  4.06692880e-03  3.21349855e-01  4.85074241e-01\n",
      " -2.75851658e-01 -6.81939575e-01 -6.17268732e-01 -8.70166059e-01\n",
      " -5.96837891e-01 -4.55469391e-01 -3.93130589e-01 -3.69473885e-01\n",
      " -3.46652899e-01 -2.82811873e-01 -1.77321186e-01 -8.53024262e-02\n",
      " -8.89447322e-02 -2.07542606e-01 -4.01747295e-01 -6.02781997e-01\n",
      " -7.58486409e-01 -6.20515166e-01 -6.19409860e-01 -7.61751863e-01\n",
      " -3.35852456e-01  1.90200500e-01  3.32639376e-01  1.88787523e-02\n",
      "  3.42198492e-13  8.85244956e-03  3.90331897e-01  5.49764881e-01\n",
      " -3.71605589e-01 -7.46810817e-01 -1.19288404e+00 -9.11445027e-01\n",
      " -6.85875861e-01 -5.36072467e-01 -4.21782237e-01 -3.14725913e-01\n",
      " -2.17174829e-01 -1.45082349e-01 -7.71329502e-02 -3.65297957e-02\n",
      " -7.23313070e-02 -2.03799836e-01 -3.86379860e-01 -5.40849368e-01\n",
      " -6.85093193e-01 -7.75242025e-01 -7.90800893e-01 -6.19979104e-01\n",
      " -2.36425968e-01 -1.30997837e+00  3.63755028e-01  9.53367665e-03\n",
      "  3.42198492e-13  2.10926441e-02  4.60471930e-01  6.46845235e-01\n",
      " -4.73927477e-02 -9.96360761e-01 -1.10346196e+00 -1.08194524e+00\n",
      " -8.02750605e-01 -5.80951201e-01 -3.75838289e-01 -2.07197007e-01\n",
      " -1.09670840e-01 -6.15843480e-02 -3.28833387e-02 -2.86813001e-02\n",
      " -7.68940236e-02 -1.90356518e-01 -3.31777571e-01 -4.80540789e-01\n",
      " -6.28528405e-01 -8.14851386e-01 -4.64668603e-01 -5.12752649e-01\n",
      " -2.06107656e-01  1.13781462e+00  2.59971948e-01  3.17870023e-03\n",
      "  3.42198492e-13  1.72895774e-02  4.18765807e-01  7.42755970e-01\n",
      "  2.29815553e-01 -7.48345654e-01 -1.27991844e+00 -1.03567505e+00\n",
      " -7.19087336e-01 -4.61682912e-01 -2.63217468e-01 -1.25876873e-01\n",
      " -5.66952705e-02 -3.14149481e-02 -2.58427631e-02 -3.69731544e-02\n",
      " -7.58432078e-02 -1.54681081e-01 -2.72791245e-01 -3.99718593e-01\n",
      " -5.57791185e-01 -6.84938417e-01 -3.32047188e-01 -3.47356881e-01\n",
      "  1.57059108e-01  4.98348325e-01  9.84511654e-02  2.38656592e-03\n",
      "  3.42198492e-13  2.37526636e-04  3.51754305e-01  3.10869667e-01\n",
      "  1.96500001e-01 -1.99349785e-01 -8.52346413e-01 -8.89311209e-01\n",
      " -6.02674842e-01 -4.01858075e-01 -2.38998668e-01 -1.39666685e-01\n",
      " -8.80454537e-02 -7.18476165e-02 -7.01648046e-02 -7.90780619e-02\n",
      " -1.02043834e-01 -1.55032129e-01 -2.47181186e-01 -3.77579942e-01\n",
      " -5.75047334e-01 -5.93084278e-01 -6.90618910e-02  9.53906905e-02\n",
      "  8.27963725e-01  2.72506924e-01  2.83820197e-02  4.41360540e-03\n",
      "  3.42198492e-13  3.42198492e-13  1.38016181e-01  6.13381086e-01\n",
      "  9.32959131e-02  1.06277389e-01 -3.17196776e-01 -2.13406523e-01\n",
      " -3.80592688e-01 -5.20583908e-01 -4.09275353e-01 -3.57878174e-01\n",
      " -3.19714427e-01 -2.90711176e-01 -2.74486972e-01 -2.71267808e-01\n",
      " -2.90155974e-01 -3.39995767e-01 -4.33666991e-01 -4.88028938e-01\n",
      " -2.66716180e-01 -1.05052267e-01  2.28112592e-01  1.42399593e+00\n",
      "  3.07145173e-01  5.30791642e-02  1.48972587e-02  3.42198492e-13\n",
      "  3.42198492e-13  3.42198492e-13  3.83002372e-02  3.13234381e-01\n",
      "  4.44610661e-01 -1.41511102e-01 -1.97606543e-01 -7.28866849e-02\n",
      " -2.21766589e-02 -1.22786018e-02 -2.41165982e-02 -1.32724180e-01\n",
      " -1.97586938e-01 -2.18500749e-01 -1.62163283e-01 -1.72542732e-01\n",
      " -2.10923541e-01 -3.06584154e-01 -4.27305928e-01 -1.91030442e-01\n",
      " -2.30674536e-02  9.04912995e-02  1.28337290e+00  3.91623444e-01\n",
      "  1.15886357e-01  2.11483961e-02  5.72641253e-03  3.42198492e-13\n",
      "  3.42198492e-13  3.42198492e-13  3.45345708e-03  2.18250749e-02\n",
      "  1.98629474e-01  5.21852518e-01  3.73467278e-01  3.63049934e-01\n",
      "  2.84691199e-01  1.48452053e-01  6.06601363e-02 -2.16587113e-01\n",
      " -3.12022796e-01 -4.19732715e-01 -4.23507689e-01 -9.26606902e-02\n",
      " -3.92348769e-02  5.10310069e-02  4.14819663e-02  2.23208398e-01\n",
      "  4.90374189e-01  1.15919973e+00  4.08226825e-01  2.97812145e-01\n",
      "  3.81459875e-02  9.25591669e-03  6.37484132e-03  3.42198492e-13\n",
      "  3.42198492e-13  3.42198492e-13  3.42198492e-13  3.42198492e-13\n",
      "  5.63349229e-02  2.60073642e-01  6.56127882e-01  9.33889869e-02\n",
      "  8.74063379e-01  8.92344537e-01  7.23846417e-01  6.36132696e-01\n",
      "  5.76522599e-01  6.37411695e-01  6.98530491e-01  8.50391888e-01\n",
      "  9.27908978e-01  9.35998507e-01  9.22695996e-01 -2.11991480e-01\n",
      "  6.99646565e-01  3.83750413e-01  1.38507748e-01  3.58741740e-02\n",
      "  1.91388579e-03  3.50885971e-03  3.42198492e-13  3.42198492e-13\n",
      "  3.42198492e-13  3.42198492e-13  3.42198492e-13  3.42198492e-13\n",
      "  3.42198492e-13  1.05895638e-02  6.42625781e-02  1.84241820e-01\n",
      "  3.35755349e-01  4.06639831e-01  4.95933989e-01  5.99523472e-01\n",
      "  7.29378153e-01  8.44929349e-01  1.08728838e+00  9.90451498e-01\n",
      "  8.10634217e-01  6.13506483e-01  4.16861671e-01  2.93355493e-01\n",
      "  1.17605807e-01  3.65516987e-02  3.27534268e-02  7.15861944e-03\n",
      "  3.42198492e-13  3.42198492e-13  3.42198492e-13  3.42198492e-13]\n"
     ]
    }
   ],
   "source": [
    "# Filter features by information gain\n",
    "\n",
    "gain = calculate_information_gain(train_data, train_labels)\n",
    "\n",
    "print(gain)\n",
    "\n",
    "# sort features by calculated information gain\n",
    "ranks = gain.argsort()[::-1]\n",
    "\n",
    "train_data = train_data[ranks[:d], :]\n",
    "test_data = test_data[ranks[:d], :]\n",
    "\n",
    "# randomly shuffle data\n",
    "num_training = train_data.shape[1] #Get the number of rows\n",
    "\n",
    "order = list(range(num_training))\n",
    "random.shuffle(order)\n",
    "\n",
    "train_data = train_data[:, order]\n",
    "train_labels = train_labels[order]"
   ]
  },
  {
   "cell_type": "code",
   "execution_count": 32,
   "metadata": {},
   "outputs": [],
   "source": [
    "# prune data to even smaller (since decision tree takes much longer to train)\n",
    "\n",
    "d = 250\n",
    "\n",
    "train_data_small = train_data[:d, :]\n",
    "test_data_small = test_data[:d, :]\n",
    "\n",
    "# Apply cross-validation on training data to select hyper-parameter (max depth) of decision trees\n",
    "depth_values = np.array([2, 4, 8, 16, 32, 64])\n",
    "\n",
    "cv_score = np.zeros(depth_values.size)\n",
    "\n",
    "params = dict()\n",
    "\n",
    "for i in range(depth_values.size):\n",
    "    params['max_depth'] = depth_values[i]\n",
    "    cv_score[i], _ = cross_validate(decision_tree_train, decision_tree_predict, \n",
    "                                 train_data_small, train_labels, 3, params)"
   ]
  },
  {
   "cell_type": "code",
   "execution_count": 33,
   "metadata": {},
   "outputs": [
    {
     "data": {
      "text/plain": [
       "Text(0.5, 1.0, 'Decision Tree Cross-Validation Accuracy')"
      ]
     },
     "execution_count": 33,
     "metadata": {},
     "output_type": "execute_result"
    },
    {
     "data": {
      "image/png": "[encoded data removed]",
      "text/plain": [
       "<Figure size 432x288 with 1 Axes>"
      ]
     },
     "metadata": {
      "needs_background": "light"
     },
     "output_type": "display_data"
    }
   ],
   "source": [
    "plt.plot(depth_values, cv_score)\n",
    "plt.xlabel('Max Depth')\n",
    "plt.ylabel('CV Accuracy')\n",
    "plt.title('Decision Tree Cross-Validation Accuracy')"
   ]
  },
  {
   "cell_type": "code",
   "execution_count": 34,
   "metadata": {},
   "outputs": [
    {
     "name": "stdout",
     "output_type": "stream",
     "text": [
      "Naive Bayes training accuracy: 0.649763\n",
      "Naive Bayes testing accuracy: 0.652750\n"
     ]
    }
   ],
   "source": [
    "# Try naive Bayes \n",
    "nb_params = {}\n",
    "nb_model = naive_bayes_train(train_data, train_labels, nb_params)\n",
    "\n",
    "\n",
    "# Compute training accuracy\n",
    "nb_train_predictions = naive_bayes_predict(train_data, nb_model)\n",
    "nb_train_accuracy = np.mean(nb_train_predictions == train_labels)\n",
    "print(\"Naive Bayes training accuracy: %f\" % nb_train_accuracy)\n",
    "\n",
    "\n",
    "# Compute testing accuracy\n",
    "nb_test_predictions = naive_bayes_predict(test_data, nb_model)\n",
    "nb_test_accuracy = np.mean(nb_test_predictions == test_labels)\n",
    "print(\"Naive Bayes testing accuracy: %f\" % nb_test_accuracy)"
   ]
  },
  {
   "cell_type": "code",
   "execution_count": 35,
   "metadata": {},
   "outputs": [],
   "source": [
    "# Train on full training data with best depth\n",
    "\n",
    "best_depth_index = cv_score.argmax()\n",
    "\n",
    "params['max_depth'] = depth_values[best_depth_index]\n",
    "\n",
    "dt_model = decision_tree_train(train_data, train_labels, params)"
   ]
  },
  {
   "cell_type": "code",
   "execution_count": 36,
   "metadata": {},
   "outputs": [
    {
     "name": "stdout",
     "output_type": "stream",
     "text": [
      "Decision tree testing accuracy: 0.292000\n"
     ]
    }
   ],
   "source": [
    "# Compute testing accuracy\n",
    "\n",
    "dt_predictions = decision_tree_predict(test_data, dt_model)\n",
    "\n",
    "dt_accuracy = np.mean(dt_predictions == test_labels)\n",
    "\n",
    "print(\"Decision tree testing accuracy: %f\" % dt_accuracy)"
   ]
  },
  {
   "cell_type": "code",
   "execution_count": 37,
   "metadata": {},
   "outputs": [],
   "source": [
    "# Training Perceptron algorithm\n",
    "from __future__ import division\n",
    "import numpy as np\n",
    "import pylab as plt\n",
    "from linearclassifier import linear_predict, perceptron_update, plot_predictions, log_reg_train\n",
    "from scipy.io import loadmat\n",
    "\n"
   ]
  },
  {
   "cell_type": "code",
   "execution_count": 45,
   "metadata": {},
   "outputs": [
    {
     "name": "stdout",
     "output_type": "stream",
     "text": [
      "(784, 38000)\n",
      "(784, 4000)\n",
      "------\n",
      "(38000,)\n",
      "(4000,)\n",
      "(22, 1276)\n",
      "(22, 850)\n",
      "------\n",
      "(1276,)\n",
      "(850,)\n"
     ]
    }
   ],
   "source": [
    "# load cardio data from MATLAB data file\n",
    "\n",
    "variables = dict()\n",
    "loadmat('processedCardio.mat', variables)\n",
    "\n",
    "train_labels1 = variables['trainLabels'].ravel() - 1 # the original MATLAB data was 1-indexed\n",
    "test_labels1 = variables['testLabels'].ravel() - 1\n",
    "train_data1 = variables['trainData']\n",
    "test_data1 = variables['testData']\n",
    "\n",
    "train_labels = trainLabels.ravel() - 1 # the original MATLAB data was 1-indexed\n",
    "test_labels = variables['testLabels'].ravel() - 1\n",
    "train_data = variables['trainData']\n",
    "test_data = variables['testData']\n",
    "# get data dimensions and sizes\n",
    "#num_dim, num_train = train_data.shape\n",
    "#_, num_test = test_data.shape\n",
    "\n",
    "#classes = np.unique(train_labels)\n",
    "#num_classes = len(classes)\n",
    "#print(num_classes) # meaning 10 digits\n",
    "\n",
    "print(train_data.shape)\n",
    "print(test_data.shape)\n",
    "print('------')\n",
    "print(train_labels.shape)\n",
    "print(test_labels.shape)\n",
    "\n",
    "print(train_data1.shape)\n",
    "print(test_data1.shape)\n",
    "print('------')\n",
    "print(train_labels1.shape)\n",
    "print(test_labels1.shape)"
   ]
  },
  {
   "cell_type": "code",
   "execution_count": 39,
   "metadata": {},
   "outputs": [
    {
     "data": {
      "image/png": "[encoded data removed]",
      "text/plain": [
       "<Figure size 432x288 with 1 Axes>"
      ]
     },
     "metadata": {
      "needs_background": "light"
     },
     "output_type": "display_data"
    }
   ],
   "source": [
    "plt.hist(train_labels)\n",
    "plt.xlabel('Class')\n",
    "plt.ylabel('Number of Examples')\n",
    "plt.show()"
   ]
  },
  {
   "cell_type": "code",
   "execution_count": 50,
   "metadata": {},
   "outputs": [
    {
     "ename": "IndexError",
     "evalue": "only integers, slices (`:`), ellipsis (`...`), numpy.newaxis (`None`) and integer or boolean arrays are valid indices",
     "output_type": "error",
     "traceback": [
      "\u001b[1;31m---------------------------------------------------------------------------\u001b[0m",
      "\u001b[1;31mIndexError\u001b[0m                                Traceback (most recent call last)",
      "\u001b[1;32mc:\\Users\\gurki\\Documents\\GitHub\\MachineLearning_digitrecog\\main.ipynb Cell 13\u001b[0m in \u001b[0;36m<cell line: 11>\u001b[1;34m()\u001b[0m\n\u001b[0;32m     <a href='vscode-notebook-cell:/c%3A/Users/gurki/Documents/GitHub/MachineLearning_digitrecog/main.ipynb#X25sZmlsZQ%3D%3D?line=19'>20</a>\u001b[0m mistakes \u001b[39m=\u001b[39m \u001b[39m0\u001b[39m\n\u001b[0;32m     <a href='vscode-notebook-cell:/c%3A/Users/gurki/Documents/GitHub/MachineLearning_digitrecog/main.ipynb#X25sZmlsZQ%3D%3D?line=20'>21</a>\u001b[0m \u001b[39mfor\u001b[39;00m i \u001b[39min\u001b[39;00m \u001b[39mrange\u001b[39m(num_train):\n\u001b[1;32m---> <a href='vscode-notebook-cell:/c%3A/Users/gurki/Documents/GitHub/MachineLearning_digitrecog/main.ipynb#X25sZmlsZQ%3D%3D?line=21'>22</a>\u001b[0m     correct \u001b[39m=\u001b[39m perceptron_update(train_data[:, i], model, params, train_labels[i])\n\u001b[0;32m     <a href='vscode-notebook-cell:/c%3A/Users/gurki/Documents/GitHub/MachineLearning_digitrecog/main.ipynb#X25sZmlsZQ%3D%3D?line=23'>24</a>\u001b[0m     \u001b[39mif\u001b[39;00m \u001b[39mnot\u001b[39;00m correct:\n\u001b[0;32m     <a href='vscode-notebook-cell:/c%3A/Users/gurki/Documents/GitHub/MachineLearning_digitrecog/main.ipynb#X25sZmlsZQ%3D%3D?line=24'>25</a>\u001b[0m         mistakes \u001b[39m+\u001b[39m\u001b[39m=\u001b[39m \u001b[39m1\u001b[39m\n",
      "File \u001b[1;32mc:\\Users\\gurki\\Documents\\GitHub\\MachineLearning_digitrecog\\linearclassifier.py:53\u001b[0m, in \u001b[0;36mperceptron_update\u001b[1;34m(data, model, params, label)\u001b[0m\n\u001b[0;32m     51\u001b[0m     gold \u001b[39m=\u001b[39m linear_predict(data, model)\n\u001b[0;32m     52\u001b[0m     model[\u001b[39m'\u001b[39m\u001b[39mweights\u001b[39m\u001b[39m'\u001b[39m][:,gold][:] \u001b[39m=\u001b[39m model[\u001b[39m'\u001b[39m\u001b[39mweights\u001b[39m\u001b[39m'\u001b[39m][:,gold] \u001b[39m-\u001b[39m (params[\u001b[39m'\u001b[39m\u001b[39mlambda\u001b[39m\u001b[39m'\u001b[39m])\u001b[39m*\u001b[39m(data)\n\u001b[1;32m---> 53\u001b[0m     model[\u001b[39m'\u001b[39m\u001b[39mweights\u001b[39m\u001b[39m'\u001b[39m][:,label][:] \u001b[39m=\u001b[39m model[\u001b[39m'\u001b[39;49m\u001b[39mweights\u001b[39;49m\u001b[39m'\u001b[39;49m][:,label] \u001b[39m+\u001b[39m params[\u001b[39m'\u001b[39m\u001b[39mlambda\u001b[39m\u001b[39m'\u001b[39m]\u001b[39m*\u001b[39m(data)\n\u001b[0;32m     54\u001b[0m     \u001b[39mreturn\u001b[39;00m \u001b[39mFalse\u001b[39;00m\n\u001b[0;32m     56\u001b[0m \u001b[39mreturn\u001b[39;00m \u001b[39mTrue\u001b[39;00m\n",
      "\u001b[1;31mIndexError\u001b[0m: only integers, slices (`:`), ellipsis (`...`), numpy.newaxis (`None`) and integer or boolean arrays are valid indices"
     ]
    }
   ],
   "source": [
    "# Perceptron experiment\n",
    "\n",
    "epochs = 40\n",
    "lambda_val = 1\n",
    "\n",
    "model = { 'weights': np.zeros((num_dim, num_classes)) }\n",
    "params = {'lambda': lambda_val}\n",
    "train_accuracy = np.zeros(epochs)\n",
    "test_accuracy = np.zeros(epochs)\n",
    "\n",
    "for epoch in range(epochs):\n",
    "    # first measure training and testing accuracy\n",
    "    predictions = linear_predict(train_data, model)\n",
    "    train_accuracy[epoch] = np.sum(predictions == train_labels) / num_train\n",
    "\n",
    "    predictions = linear_predict(test_data, model)\n",
    "    test_accuracy[epoch] = np.sum(predictions == test_labels) / num_test\n",
    "\n",
    "    # run perceptron training\n",
    "    mistakes = 0\n",
    "    for i in range(num_train):\n",
    "        correct = perceptron_update(train_data[:, i], model, params, train_labels[i])\n",
    "        \n",
    "        if not correct:\n",
    "            mistakes += 1\n",
    "    \n",
    "    print(\"Finished epoch %d with %d mistakes.\" % (epoch, mistakes))"
   ]
  },
  {
   "cell_type": "code",
   "execution_count": 44,
   "metadata": {},
   "outputs": [
    {
     "ename": "IndexError",
     "evalue": "only integers, slices (`:`), ellipsis (`...`), numpy.newaxis (`None`) and integer or boolean arrays are valid indices",
     "output_type": "error",
     "traceback": [
      "\u001b[1;31m---------------------------------------------------------------------------\u001b[0m",
      "\u001b[1;31mIndexError\u001b[0m                                Traceback (most recent call last)",
      "\u001b[1;32mc:\\Users\\gurki\\Documents\\GitHub\\MachineLearning_digitrecog\\main.ipynb Cell 13\u001b[0m in \u001b[0;36m<cell line: 11>\u001b[1;34m()\u001b[0m\n\u001b[0;32m     <a href='vscode-notebook-cell:/c%3A/Users/gurki/Documents/GitHub/MachineLearning_digitrecog/main.ipynb#X16sZmlsZQ%3D%3D?line=19'>20</a>\u001b[0m mistakes \u001b[39m=\u001b[39m \u001b[39m0\u001b[39m\n\u001b[0;32m     <a href='vscode-notebook-cell:/c%3A/Users/gurki/Documents/GitHub/MachineLearning_digitrecog/main.ipynb#X16sZmlsZQ%3D%3D?line=20'>21</a>\u001b[0m \u001b[39mfor\u001b[39;00m i \u001b[39min\u001b[39;00m \u001b[39mrange\u001b[39m(num_train):\n\u001b[1;32m---> <a href='vscode-notebook-cell:/c%3A/Users/gurki/Documents/GitHub/MachineLearning_digitrecog/main.ipynb#X16sZmlsZQ%3D%3D?line=21'>22</a>\u001b[0m     correct \u001b[39m=\u001b[39m perceptron_update(train_data[:, i], p_model, params, train_labels[i])\n\u001b[0;32m     <a href='vscode-notebook-cell:/c%3A/Users/gurki/Documents/GitHub/MachineLearning_digitrecog/main.ipynb#X16sZmlsZQ%3D%3D?line=23'>24</a>\u001b[0m     \u001b[39mif\u001b[39;00m \u001b[39mnot\u001b[39;00m correct:\n\u001b[0;32m     <a href='vscode-notebook-cell:/c%3A/Users/gurki/Documents/GitHub/MachineLearning_digitrecog/main.ipynb#X16sZmlsZQ%3D%3D?line=24'>25</a>\u001b[0m         mistakes \u001b[39m+\u001b[39m\u001b[39m=\u001b[39m \u001b[39m1\u001b[39m\n",
      "File \u001b[1;32mc:\\Users\\gurki\\Documents\\GitHub\\MachineLearning_digitrecog\\linearclassifier.py:53\u001b[0m, in \u001b[0;36mperceptron_update\u001b[1;34m(data, model, params, label)\u001b[0m\n\u001b[0;32m     51\u001b[0m     gold \u001b[39m=\u001b[39m linear_predict(data, model)\n\u001b[0;32m     52\u001b[0m     model[\u001b[39m'\u001b[39m\u001b[39mweights\u001b[39m\u001b[39m'\u001b[39m][:,gold][:] \u001b[39m=\u001b[39m model[\u001b[39m'\u001b[39m\u001b[39mweights\u001b[39m\u001b[39m'\u001b[39m][:,gold] \u001b[39m-\u001b[39m (params[\u001b[39m'\u001b[39m\u001b[39mlambda\u001b[39m\u001b[39m'\u001b[39m])\u001b[39m*\u001b[39m(data)\n\u001b[1;32m---> 53\u001b[0m     model[\u001b[39m'\u001b[39m\u001b[39mweights\u001b[39m\u001b[39m'\u001b[39m][:,label][:] \u001b[39m=\u001b[39m model[\u001b[39m'\u001b[39;49m\u001b[39mweights\u001b[39;49m\u001b[39m'\u001b[39;49m][:,label] \u001b[39m+\u001b[39m params[\u001b[39m'\u001b[39m\u001b[39mlambda\u001b[39m\u001b[39m'\u001b[39m]\u001b[39m*\u001b[39m(data)\n\u001b[0;32m     54\u001b[0m     \u001b[39mreturn\u001b[39;00m \u001b[39mFalse\u001b[39;00m\n\u001b[0;32m     56\u001b[0m \u001b[39mreturn\u001b[39;00m \u001b[39mTrue\u001b[39;00m\n",
      "\u001b[1;31mIndexError\u001b[0m: only integers, slices (`:`), ellipsis (`...`), numpy.newaxis (`None`) and integer or boolean arrays are valid indices"
     ]
    }
   ],
   "source": [
    "# Perceptron experiment\n",
    "\n",
    "epochs = 1000\n",
    "lambda_val = 1\n",
    "\n",
    "p_model = { 'weights': np.zeros((num_dim, num_classes)) }\n",
    "params = {'lambda': lambda_val}\n",
    "train_accuracy = np.zeros(epochs)\n",
    "test_accuracy = np.zeros(epochs)\n",
    "\n",
    "for epoch in range(epochs):\n",
    "    # first measure training and testing accuracy\n",
    "    predictions = linear_predict(train_data, p_model)\n",
    "    train_accuracy[epoch] = np.sum(predictions == train_labels) / num_train\n",
    "\n",
    "    predictions = linear_predict(test_data, p_model)\n",
    "    test_accuracy[epoch] = np.sum(predictions == test_labels) / num_test\n",
    "\n",
    "    # run perceptron training\n",
    "    mistakes = 0\n",
    "    for i in range(num_train):\n",
    "        correct = perceptron_update(train_data[:, i], p_model, params, train_labels[i])\n",
    "        \n",
    "        if not correct:\n",
    "            mistakes += 1\n",
    "    \n",
    "    print(\"Finished epoch %d with %d mistakes.\" % (epoch, mistakes))"
   ]
  },
  {
   "cell_type": "code",
   "execution_count": 26,
   "metadata": {},
   "outputs": [
    {
     "data": {
      "image/png": "[encoded data removed]",
      "text/plain": [
       "<Figure size 432x288 with 1 Axes>"
      ]
     },
     "metadata": {
      "needs_background": "light"
     },
     "output_type": "display_data"
    },
    {
     "name": "stdout",
     "output_type": "stream",
     "text": [
      "Train Accuracy: 0.817398\n",
      "Test Accuracy: 0.618824\n"
     ]
    }
   ],
   "source": [
    "# Plot results of perceptron\n",
    "\n",
    "train_line = plt.plot(range(epochs), train_accuracy, label=\"Training\")\n",
    "test_line = plt.plot(range(epochs), test_accuracy, label=\"Testing\")\n",
    "plt.title('Cardiotocography Data')\n",
    "plt.xlabel('Iteration')\n",
    "plt.ylabel('Perceptron Accuracy')\n",
    "plt.legend()\n",
    "\n",
    "plt.show()\n",
    "\n",
    "print(\"Train Accuracy: %f\" % train_accuracy[epochs-1])\n",
    "print(\"Test Accuracy: %f\" % test_accuracy[epochs-1])"
   ]
  },
  {
   "cell_type": "code",
   "execution_count": 27,
   "metadata": {},
   "outputs": [
    {
     "name": "stdout",
     "output_type": "stream",
     "text": [
      "Provided gradient differed from numerical approximation by 9.814375e-04 (should be around 1e-3 or less)\n",
      "Train Accuracy: 0.899687\n",
      "Test Accuracy: 0.635294\n"
     ]
    }
   ],
   "source": [
    "# Logistic regression gradient check\n",
    "\n",
    "# first check if the gradient and objective function are consistent with each other\n",
    "_ = log_reg_train(train_data, train_labels, \n",
    "              {'weights': np.random.randn(num_dim * num_classes)}, check_gradient=True)\n",
    "\n",
    "# Logistic regression experiment\n",
    "\n",
    "model = {'weights': np.zeros((num_dim, num_classes))}\n",
    "    \n",
    "model = log_reg_train(train_data, train_labels, model)\n",
    "        \n",
    "train_predictions = linear_predict(train_data, model)\n",
    "train_accuracy = np.sum(train_predictions == train_labels) / num_train\n",
    "\n",
    "test_predictions = linear_predict(test_data, model)\n",
    "test_accuracy = np.sum(test_predictions == test_labels) / num_test\n",
    "    \n",
    "print(\"Train Accuracy: %f\" % train_accuracy)\n",
    "print(\"Test Accuracy: %f\" % test_accuracy)"
   ]
  },
  {
   "cell_type": "code",
   "execution_count": null,
   "metadata": {},
   "outputs": [],
   "source": []
  },
  {
   "attachments": {},
   "cell_type": "markdown",
   "metadata": {},
   "source": [
    "## SVM (Support Vector Machine)"
   ]
  },
  {
   "cell_type": "markdown",
   "metadata": {},
   "source": []
  }
 ],
 "metadata": {
  "kernelspec": {
   "display_name": "Python 3",
   "language": "python",
   "name": "python3"
  },
  "language_info": {
   "codemirror_mode": {
    "name": "ipython",
    "version": 3
   },
   "file_extension": ".py",
   "mimetype": "text/x-python",
   "name": "python",
   "nbconvert_exporter": "python",
   "pygments_lexer": "ipython3",
   "version": "3.9.12"
  },
  "orig_nbformat": 4
 },
 "nbformat": 4,
 "nbformat_minor": 2
}
